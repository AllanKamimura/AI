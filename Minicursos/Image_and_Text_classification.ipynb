{
  "nbformat": 4,
  "nbformat_minor": 0,
  "metadata": {
    "colab": {
      "name": "Image and Text classification.ipynb",
      "provenance": [],
      "collapsed_sections": [
        "oeIjqRheFKLE",
        "wz3JU9V4GJJh",
        "YHomOGwKGLgo",
        "6TxFv7t2GO90",
        "VxPk22kbyRzA",
        "g9nUB8FUGlH2",
        "sSubJOAZGnwC",
        "2Z3HRjLmGpxI"
      ],
      "authorship_tag": "ABX9TyMtZKjjESiLqdttsI1VDa2a",
      "include_colab_link": true
    },
    "kernelspec": {
      "name": "python3",
      "display_name": "Python 3"
    },
    "language_info": {
      "name": "python"
    },
    "accelerator": "GPU"
  },
  "cells": [
    {
      "cell_type": "markdown",
      "metadata": {
        "id": "view-in-github",
        "colab_type": "text"
      },
      "source": [
        "<a href=\"https://colab.research.google.com/github/AllanKamimura/AI/blob/master/Minicursos/Image_and_Text_classification.ipynb\" target=\"_parent\"><img src=\"https://colab.research.google.com/assets/colab-badge.svg\" alt=\"Open In Colab\"/></a>"
      ]
    },
    {
      "cell_type": "markdown",
      "metadata": {
        "id": "oeIjqRheFKLE"
      },
      "source": [
        "# Init"
      ]
    },
    {
      "cell_type": "code",
      "metadata": {
        "colab": {
          "base_uri": "https://localhost:8080/"
        },
        "id": "ueH2X5NrE6WY",
        "outputId": "e4a25738-77b4-4509-f4e4-103d8a68b835"
      },
      "source": [
        "!pip -q install tensorflow_text\n",
        "\n",
        "# bibliotecas basicas\n",
        "import numpy as np\n",
        "import pandas as pd\n",
        "import matplotlib.pyplot as plt\n",
        "\n",
        "#bibliotecas importantes \n",
        "import tensorflow as tf\n",
        "import tensorflow_text as tftext\n",
        "import tensorflow_hub as tfhub\n",
        "\n",
        "from tensorflow.keras.preprocessing.image import ImageDataGenerator\n",
        "\n",
        "#bibliotecas que ajudam a montar\n",
        "from google.colab import files\n",
        "from google_drive_downloader import GoogleDriveDownloader"
      ],
      "execution_count": null,
      "outputs": [
        {
          "output_type": "stream",
          "text": [
            "\u001b[K     |████████████████████████████████| 4.3MB 8.8MB/s \n",
            "\u001b[?25h"
          ],
          "name": "stdout"
        }
      ]
    },
    {
      "cell_type": "code",
      "metadata": {
        "colab": {
          "base_uri": "https://localhost:8080/"
        },
        "id": "ON-1I7PCFlQr",
        "outputId": "50eb13af-82d3-4092-ec83-5ec807c8a8f3"
      },
      "source": [
        "# baixando as imagens do meu google drive\n",
        "file_id = \"14eTab9-EJV5noauL_jla7Htw984nceOz\" # id do arquivo\n",
        "folder = \"animal\" # nome do folder principal dentro do zip\n",
        "\n",
        "GoogleDriveDownloader.download_file_from_google_drive(\n",
        "    file_id = file_id,\n",
        "    dest_path = \"/content/animal.zip\",\n",
        "    unzip = True\n",
        ")\n"
      ],
      "execution_count": null,
      "outputs": [
        {
          "output_type": "stream",
          "text": [
            "Downloading 14eTab9-EJV5noauL_jla7Htw984nceOz into /content/animal.zip... Done.\n",
            "Unzipping...Done.\n"
          ],
          "name": "stdout"
        }
      ]
    },
    {
      "cell_type": "code",
      "metadata": {
        "colab": {
          "base_uri": "https://localhost:8080/"
        },
        "id": "AN-4vyYdNiDi",
        "outputId": "b3d5c152-11e0-4985-c8d9-f146661064e2"
      },
      "source": [
        "# baixando as reviews do meu github\n",
        "!wget https://raw.githubusercontent.com/AllanKamimura/AI/master/text/classification/tripadvisor_hotel_reviews.csv"
      ],
      "execution_count": null,
      "outputs": [
        {
          "output_type": "stream",
          "text": [
            "--2021-07-10 00:26:34--  https://raw.githubusercontent.com/AllanKamimura/AI/master/text/classification/tripadvisor_hotel_reviews.csv\n",
            "Resolving raw.githubusercontent.com (raw.githubusercontent.com)... 185.199.108.133, 185.199.111.133, 185.199.109.133, ...\n",
            "Connecting to raw.githubusercontent.com (raw.githubusercontent.com)|185.199.108.133|:443... connected.\n",
            "HTTP request sent, awaiting response... 200 OK\n",
            "Length: 14966021 (14M) [text/plain]\n",
            "Saving to: ‘tripadvisor_hotel_reviews.csv’\n",
            "\n",
            "tripadvisor_hotel_r 100%[===================>]  14.27M  45.0MB/s    in 0.3s    \n",
            "\n",
            "2021-07-10 00:26:35 (45.0 MB/s) - ‘tripadvisor_hotel_reviews.csv’ saved [14966021/14966021]\n",
            "\n"
          ],
          "name": "stdout"
        }
      ]
    },
    {
      "cell_type": "markdown",
      "metadata": {
        "id": "wz3JU9V4GJJh"
      },
      "source": [
        "# Convoluções"
      ]
    },
    {
      "cell_type": "code",
      "metadata": {
        "colab": {
          "base_uri": "https://localhost:8080/"
        },
        "id": "bGb1vuSmIsw5",
        "outputId": "4876133b-6bb8-4418-ed80-acd7791a0380"
      },
      "source": [
        "# from https://www.kaggle.com/alessiocorrado99/animals10\n",
        "datagen = ImageDataGenerator(\n",
        "    rescale = 1/255,\n",
        "    validation_split = 0.1\n",
        ")\n",
        "\n",
        "train_images = datagen.flow_from_directory(\n",
        "    directory = \"/content/animal\",\n",
        "    subset = \"training\",\n",
        "    seed = 1\n",
        ")\n",
        "\n",
        "val_images = datagen.flow_from_directory(\n",
        "    directory = \"/content/animal\",\n",
        "    subset = \"validation\",\n",
        "    seed = 1\n",
        ") \n"
      ],
      "execution_count": null,
      "outputs": [
        {
          "output_type": "stream",
          "text": [
            "Found 23561 images belonging to 10 classes.\n",
            "Found 2613 images belonging to 10 classes.\n"
          ],
          "name": "stdout"
        }
      ]
    },
    {
      "cell_type": "code",
      "metadata": {
        "id": "PK69tLm-kRnY"
      },
      "source": [
        "images, labels = val_images.next()"
      ],
      "execution_count": null,
      "outputs": []
    },
    {
      "cell_type": "code",
      "metadata": {
        "colab": {
          "base_uri": "https://localhost:8080/"
        },
        "id": "QpD7jowhkaDF",
        "outputId": "5916f502-4fb6-4fee-dcb6-b02a3381c829"
      },
      "source": [
        "images.shape"
      ],
      "execution_count": null,
      "outputs": [
        {
          "output_type": "execute_result",
          "data": {
            "text/plain": [
              "(32, 256, 256, 3)"
            ]
          },
          "metadata": {
            "tags": []
          },
          "execution_count": 6
        }
      ]
    },
    {
      "cell_type": "code",
      "metadata": {
        "colab": {
          "base_uri": "https://localhost:8080/",
          "height": 269
        },
        "id": "lnF4WqMUkf2M",
        "outputId": "27877ac4-08bd-49f1-fb3f-2c13c1fd2e0f"
      },
      "source": [
        "image = images[0]\n",
        "_ = plt.imshow(image)"
      ],
      "execution_count": null,
      "outputs": [
        {
          "output_type": "display_data",
          "data": {
            "image/png": "[encoded data removed]",
            "text/plain": [
              "<Figure size 432x288 with 1 Axes>"
            ]
          },
          "metadata": {
            "tags": [],
            "needs_background": "light"
          }
        }
      ]
    },
    {
      "cell_type": "code",
      "metadata": {
        "colab": {
          "base_uri": "https://localhost:8080/"
        },
        "id": "lAl0PwsJkmaW",
        "outputId": "2e840023-92c7-485b-d400-d0ec579e7a80"
      },
      "source": [
        "labels.shape"
      ],
      "execution_count": null,
      "outputs": [
        {
          "output_type": "execute_result",
          "data": {
            "text/plain": [
              "(32, 10)"
            ]
          },
          "metadata": {
            "tags": []
          },
          "execution_count": 8
        }
      ]
    },
    {
      "cell_type": "code",
      "metadata": {
        "colab": {
          "base_uri": "https://localhost:8080/"
        },
        "id": "5aXp43sQkosZ",
        "outputId": "32667c1b-9fa3-4815-add0-6ea5e8c173f9"
      },
      "source": [
        "label = labels[0]\n",
        "label"
      ],
      "execution_count": null,
      "outputs": [
        {
          "output_type": "execute_result",
          "data": {
            "text/plain": [
              "array([0., 1., 0., 0., 0., 0., 0., 0., 0., 0.], dtype=float32)"
            ]
          },
          "metadata": {
            "tags": []
          },
          "execution_count": 9
        }
      ]
    },
    {
      "cell_type": "code",
      "metadata": {
        "colab": {
          "base_uri": "https://localhost:8080/"
        },
        "id": "nRTY54Uxk-Xd",
        "outputId": "838a2eed-0c10-4278-ab90-cf95c1669cfe"
      },
      "source": [
        "np.argmax(label)"
      ],
      "execution_count": null,
      "outputs": [
        {
          "output_type": "execute_result",
          "data": {
            "text/plain": [
              "1"
            ]
          },
          "metadata": {
            "tags": []
          },
          "execution_count": 10
        }
      ]
    },
    {
      "cell_type": "code",
      "metadata": {
        "colab": {
          "base_uri": "https://localhost:8080/"
        },
        "id": "VMGKSP_tlBih",
        "outputId": "b1f2323d-c8c9-4f9a-d4c9-467f29de9d35"
      },
      "source": [
        "val_images.class_indices"
      ],
      "execution_count": null,
      "outputs": [
        {
          "output_type": "execute_result",
          "data": {
            "text/plain": [
              "{'cane': 0,\n",
              " 'cavallo': 1,\n",
              " 'elefante': 2,\n",
              " 'farfalla': 3,\n",
              " 'gallina': 4,\n",
              " 'gatto': 5,\n",
              " 'mucca': 6,\n",
              " 'pecora': 7,\n",
              " 'ragno': 8,\n",
              " 'scoiattolo': 9}"
            ]
          },
          "metadata": {
            "tags": []
          },
          "execution_count": 11
        }
      ]
    },
    {
      "cell_type": "code",
      "metadata": {
        "id": "BJ4R4m3RlJtp"
      },
      "source": [
        "def my_model():\n",
        "    input = tf.keras.layers.Input(shape = (256,256,3))\n",
        "\n",
        "    x = tf.keras.layers.Conv2D(filters = 16, kernel_size = 3,\n",
        "                               activation = \"relu\")(input)\n",
        "    x = tf.keras.layers.MaxPooling2D()(x)\n",
        "\n",
        "    x = tf.keras.layers.Conv2D(filters = 32, kernel_size = 3,\n",
        "                               activation = \"relu\")(x)\n",
        "    x = tf.keras.layers.MaxPooling2D()(x)\n",
        "\n",
        "    x = tf.keras.layers.Conv2D(filters = 64, kernel_size = 3,\n",
        "                               activation = \"relu\")(x)\n",
        "    x = tf.keras.layers.MaxPooling2D()(x)\n",
        "\n",
        "    x = tf.keras.layers.Conv2D(filters = 128, kernel_size = 3,\n",
        "                               activation = \"relu\")(x)\n",
        "    x = tf.keras.layers.MaxPooling2D()(x)\n",
        "\n",
        "    x = tf.keras.layers.Flatten()(x)\n",
        "\n",
        "    x = tf.keras.layers.Dense(units = 128, activation = \"relu\")(x)\n",
        "    x = tf.keras.layers.Dense(units = 64, activation = \"relu\")(x)\n",
        "    x = tf.keras.layers.Dense(units = 32, activation = \"relu\")(x)\n",
        "    y = tf.keras.layers.Dense(units = 10, activation = \"softmax\")(x)\n",
        "\n",
        "    model = tf.keras.models.Model(\n",
        "        inputs = input,\n",
        "        outputs = y\n",
        "    )\n",
        "\n",
        "    return model"
      ],
      "execution_count": null,
      "outputs": []
    },
    {
      "cell_type": "code",
      "metadata": {
        "colab": {
          "base_uri": "https://localhost:8080/"
        },
        "id": "nWYlUmqImtqx",
        "outputId": "76b4695e-c71f-4290-e3e4-fbcba00c9be3"
      },
      "source": [
        "model1 = my_model()\n",
        "model1.summary()"
      ],
      "execution_count": null,
      "outputs": [
        {
          "output_type": "stream",
          "text": [
            "Model: \"model\"\n",
            "_________________________________________________________________\n",
            "Layer (type)                 Output Shape              Param #   \n",
            "=================================================================\n",
            "input_1 (InputLayer)         [(None, 256, 256, 3)]     0         \n",
            "_________________________________________________________________\n",
            "conv2d (Conv2D)              (None, 254, 254, 16)      448       \n",
            "_________________________________________________________________\n",
            "max_pooling2d (MaxPooling2D) (None, 127, 127, 16)      0         \n",
            "_________________________________________________________________\n",
            "conv2d_1 (Conv2D)            (None, 125, 125, 32)      4640      \n",
            "_________________________________________________________________\n",
            "max_pooling2d_1 (MaxPooling2 (None, 62, 62, 32)        0         \n",
            "_________________________________________________________________\n",
            "conv2d_2 (Conv2D)            (None, 60, 60, 64)        18496     \n",
            "_________________________________________________________________\n",
            "max_pooling2d_2 (MaxPooling2 (None, 30, 30, 64)        0         \n",
            "_________________________________________________________________\n",
            "conv2d_3 (Conv2D)            (None, 28, 28, 128)       73856     \n",
            "_________________________________________________________________\n",
            "max_pooling2d_3 (MaxPooling2 (None, 14, 14, 128)       0         \n",
            "_________________________________________________________________\n",
            "flatten (Flatten)            (None, 25088)             0         \n",
            "_________________________________________________________________\n",
            "dense (Dense)                (None, 128)               3211392   \n",
            "_________________________________________________________________\n",
            "dense_1 (Dense)              (None, 64)                8256      \n",
            "_________________________________________________________________\n",
            "dense_2 (Dense)              (None, 32)                2080      \n",
            "_________________________________________________________________\n",
            "dense_3 (Dense)              (None, 10)                330       \n",
            "=================================================================\n",
            "Total params: 3,319,498\n",
            "Trainable params: 3,319,498\n",
            "Non-trainable params: 0\n",
            "_________________________________________________________________\n"
          ],
          "name": "stdout"
        }
      ]
    },
    {
      "cell_type": "code",
      "metadata": {
        "id": "UYIoisXOmtkC"
      },
      "source": [
        "model1.compile(\n",
        "    loss = tf.keras.losses.CategoricalCrossentropy(),\n",
        "    optimizer = tf.keras.optimizers.Adam(),\n",
        "    metrics = \"accuracy\"\n",
        ")"
      ],
      "execution_count": null,
      "outputs": []
    },
    {
      "cell_type": "code",
      "metadata": {
        "colab": {
          "base_uri": "https://localhost:8080/"
        },
        "id": "aZCeXUItnEr1",
        "outputId": "13086f85-1557-41f4-ce99-92bd1391b0a6"
      },
      "source": [
        "model1.fit(\n",
        "    x = train_images,\n",
        "    validation_data = val_images,\n",
        "    epochs = 5\n",
        ")"
      ],
      "execution_count": null,
      "outputs": [
        {
          "output_type": "stream",
          "text": [
            "Epoch 1/5\n",
            "737/737 [==============================] - 111s 108ms/step - loss: 1.8217 - accuracy: 0.3598 - val_loss: 1.5249 - val_accuracy: 0.4703\n",
            "Epoch 2/5\n",
            "737/737 [==============================] - 78s 106ms/step - loss: 1.3109 - accuracy: 0.5498 - val_loss: 1.2179 - val_accuracy: 0.5809\n",
            "Epoch 3/5\n",
            "737/737 [==============================] - 77s 105ms/step - loss: 1.0315 - accuracy: 0.6496 - val_loss: 1.1192 - val_accuracy: 0.6246\n",
            "Epoch 4/5\n",
            "737/737 [==============================] - 77s 104ms/step - loss: 0.8038 - accuracy: 0.7290 - val_loss: 1.0384 - val_accuracy: 0.6491\n",
            "Epoch 5/5\n",
            "737/737 [==============================] - 77s 105ms/step - loss: 0.5954 - accuracy: 0.7999 - val_loss: 1.1417 - val_accuracy: 0.6628\n"
          ],
          "name": "stdout"
        },
        {
          "output_type": "execute_result",
          "data": {
            "text/plain": [
              "<tensorflow.python.keras.callbacks.History at 0x7fd464f1f990>"
            ]
          },
          "metadata": {
            "tags": []
          },
          "execution_count": 15
        }
      ]
    },
    {
      "cell_type": "code",
      "metadata": {
        "id": "zeJIjRKWpOhA"
      },
      "source": [
        "predicts = model1.predict(images)"
      ],
      "execution_count": null,
      "outputs": []
    },
    {
      "cell_type": "code",
      "metadata": {
        "id": "lPer922OpZTR"
      },
      "source": [
        "predict = predicts[0]"
      ],
      "execution_count": null,
      "outputs": []
    },
    {
      "cell_type": "code",
      "metadata": {
        "colab": {
          "base_uri": "https://localhost:8080/"
        },
        "id": "93WGpfscpZ_x",
        "outputId": "6c80ec3d-ac6b-46df-fa14-59d2bc59b6cb"
      },
      "source": [
        "np.argmax(predict)"
      ],
      "execution_count": null,
      "outputs": [
        {
          "output_type": "execute_result",
          "data": {
            "text/plain": [
              "1"
            ]
          },
          "metadata": {
            "tags": []
          },
          "execution_count": 20
        }
      ]
    },
    {
      "cell_type": "markdown",
      "metadata": {
        "id": "YHomOGwKGLgo"
      },
      "source": [
        "# Transfer Learning"
      ]
    },
    {
      "cell_type": "code",
      "metadata": {
        "colab": {
          "base_uri": "https://localhost:8080/"
        },
        "id": "A8IqmFdXpqPw",
        "outputId": "e2e9e9ba-b2e7-4eff-edbf-a6ce07689b8a"
      },
      "source": [
        "datagen2 = ImageDataGenerator(\n",
        "    rescale = 1/255,\n",
        "    validation_split = 0.1,\n",
        "    preprocessing_function = tf.keras.applications.vgg16.preprocess_input\n",
        ")\n",
        "\n",
        "train_images2 = datagen2.flow_from_directory(\n",
        "    directory = \"/content/animal\",\n",
        "    subset = \"training\",\n",
        "    seed = 1\n",
        ")\n",
        "\n",
        "val_images2 = datagen2.flow_from_directory(\n",
        "    directory = \"/content/animal\",\n",
        "    subset = \"validation\",\n",
        "    seed = 1\n",
        ") \n"
      ],
      "execution_count": null,
      "outputs": [
        {
          "output_type": "stream",
          "text": [
            "Found 23561 images belonging to 10 classes.\n",
            "Found 2613 images belonging to 10 classes.\n"
          ],
          "name": "stdout"
        }
      ]
    },
    {
      "cell_type": "code",
      "metadata": {
        "colab": {
          "base_uri": "https://localhost:8080/"
        },
        "id": "h41UkzZMpw-m",
        "outputId": "db6e4013-073d-45c2-80a4-c604fc8ea923"
      },
      "source": [
        "# from https://arxiv.org/abs/1409.1556\n",
        "vgg16 = tf.keras.applications.VGG16(include_top = False,\n",
        "                                    input_shape = (256,256,3))"
      ],
      "execution_count": null,
      "outputs": [
        {
          "output_type": "stream",
          "text": [
            "Downloading data from https://storage.googleapis.com/tensorflow/keras-applications/vgg16/vgg16_weights_tf_dim_ordering_tf_kernels_notop.h5\n",
            "58892288/58889256 [==============================] - 0s 0us/step\n"
          ],
          "name": "stdout"
        }
      ]
    },
    {
      "cell_type": "code",
      "metadata": {
        "colab": {
          "base_uri": "https://localhost:8080/"
        },
        "id": "Pw_elCEpqZwx",
        "outputId": "0cc43c82-59df-415c-d9e3-f7b0bb5227eb"
      },
      "source": [
        "vgg16.trainable = False\n",
        "vgg16.summary()"
      ],
      "execution_count": null,
      "outputs": [
        {
          "output_type": "stream",
          "text": [
            "Model: \"vgg16\"\n",
            "_________________________________________________________________\n",
            "Layer (type)                 Output Shape              Param #   \n",
            "=================================================================\n",
            "input_2 (InputLayer)         [(None, 256, 256, 3)]     0         \n",
            "_________________________________________________________________\n",
            "block1_conv1 (Conv2D)        (None, 256, 256, 64)      1792      \n",
            "_________________________________________________________________\n",
            "block1_conv2 (Conv2D)        (None, 256, 256, 64)      36928     \n",
            "_________________________________________________________________\n",
            "block1_pool (MaxPooling2D)   (None, 128, 128, 64)      0         \n",
            "_________________________________________________________________\n",
            "block2_conv1 (Conv2D)        (None, 128, 128, 128)     73856     \n",
            "_________________________________________________________________\n",
            "block2_conv2 (Conv2D)        (None, 128, 128, 128)     147584    \n",
            "_________________________________________________________________\n",
            "block2_pool (MaxPooling2D)   (None, 64, 64, 128)       0         \n",
            "_________________________________________________________________\n",
            "block3_conv1 (Conv2D)        (None, 64, 64, 256)       295168    \n",
            "_________________________________________________________________\n",
            "block3_conv2 (Conv2D)        (None, 64, 64, 256)       590080    \n",
            "_________________________________________________________________\n",
            "block3_conv3 (Conv2D)        (None, 64, 64, 256)       590080    \n",
            "_________________________________________________________________\n",
            "block3_pool (MaxPooling2D)   (None, 32, 32, 256)       0         \n",
            "_________________________________________________________________\n",
            "block4_conv1 (Conv2D)        (None, 32, 32, 512)       1180160   \n",
            "_________________________________________________________________\n",
            "block4_conv2 (Conv2D)        (None, 32, 32, 512)       2359808   \n",
            "_________________________________________________________________\n",
            "block4_conv3 (Conv2D)        (None, 32, 32, 512)       2359808   \n",
            "_________________________________________________________________\n",
            "block4_pool (MaxPooling2D)   (None, 16, 16, 512)       0         \n",
            "_________________________________________________________________\n",
            "block5_conv1 (Conv2D)        (None, 16, 16, 512)       2359808   \n",
            "_________________________________________________________________\n",
            "block5_conv2 (Conv2D)        (None, 16, 16, 512)       2359808   \n",
            "_________________________________________________________________\n",
            "block5_conv3 (Conv2D)        (None, 16, 16, 512)       2359808   \n",
            "_________________________________________________________________\n",
            "block5_pool (MaxPooling2D)   (None, 8, 8, 512)         0         \n",
            "=================================================================\n",
            "Total params: 14,714,688\n",
            "Trainable params: 0\n",
            "Non-trainable params: 14,714,688\n",
            "_________________________________________________________________\n"
          ],
          "name": "stdout"
        }
      ]
    },
    {
      "cell_type": "code",
      "metadata": {
        "colab": {
          "base_uri": "https://localhost:8080/"
        },
        "id": "ZlBizQaIqcz4",
        "outputId": "b72f3402-50fa-4dbf-d7fd-4434772ce224"
      },
      "source": [
        "model2 = tf.keras.Sequential(\n",
        "    [vgg16,\n",
        "     tf.keras.layers.Flatten(),\n",
        "     tf.keras.layers.Dense(128, activation = \"relu\"),\n",
        "     tf.keras.layers.Dense(32, activation = \"relu\"),\n",
        "     tf.keras.layers.Dense(units = 10, activation = \"softmax\")\n",
        "        ])\n",
        "model2.summary()"
      ],
      "execution_count": null,
      "outputs": [
        {
          "output_type": "stream",
          "text": [
            "Model: \"sequential_1\"\n",
            "_________________________________________________________________\n",
            "Layer (type)                 Output Shape              Param #   \n",
            "=================================================================\n",
            "vgg16 (Functional)           (None, 8, 8, 512)         14714688  \n",
            "_________________________________________________________________\n",
            "flatten_1 (Flatten)          (None, 32768)             0         \n",
            "_________________________________________________________________\n",
            "dense_7 (Dense)              (None, 128)               4194432   \n",
            "_________________________________________________________________\n",
            "dense_8 (Dense)              (None, 32)                4128      \n",
            "_________________________________________________________________\n",
            "dense_9 (Dense)              (None, 10)                330       \n",
            "=================================================================\n",
            "Total params: 18,913,578\n",
            "Trainable params: 4,198,890\n",
            "Non-trainable params: 14,714,688\n",
            "_________________________________________________________________\n"
          ],
          "name": "stdout"
        }
      ]
    },
    {
      "cell_type": "code",
      "metadata": {
        "id": "2Y4Lk_Z6q_uT"
      },
      "source": [
        "model2.compile(\n",
        "    loss = tf.keras.losses.CategoricalCrossentropy(),\n",
        "    optimizer = tf.keras.optimizers.Adam(),\n",
        "    metrics = \"accuracy\"\n",
        ")"
      ],
      "execution_count": null,
      "outputs": []
    },
    {
      "cell_type": "code",
      "metadata": {
        "colab": {
          "base_uri": "https://localhost:8080/"
        },
        "id": "I2T5tPH8rG1z",
        "outputId": "03b7f4bc-1d9f-401a-faae-b6e7873b8f16"
      },
      "source": [
        "model2.fit(\n",
        "    x = train_images2,\n",
        "    validation_data = val_images2,\n",
        "    epochs = 1\n",
        ")"
      ],
      "execution_count": null,
      "outputs": [
        {
          "output_type": "stream",
          "text": [
            "737/737 [==============================] - 178s 229ms/step - loss: 0.6321 - accuracy: 0.7977 - val_loss: 0.3852 - val_accuracy: 0.8775\n"
          ],
          "name": "stdout"
        },
        {
          "output_type": "execute_result",
          "data": {
            "text/plain": [
              "<tensorflow.python.keras.callbacks.History at 0x7fd3028b5850>"
            ]
          },
          "metadata": {
            "tags": []
          },
          "execution_count": 33
        }
      ]
    },
    {
      "cell_type": "markdown",
      "metadata": {
        "id": "6TxFv7t2GO90"
      },
      "source": [
        "# Text"
      ]
    },
    {
      "cell_type": "markdown",
      "metadata": {
        "id": "VxPk22kbyRzA"
      },
      "source": [
        "## modelo pre-treinado\n",
        "https://tfhub.dev"
      ]
    },
    {
      "cell_type": "code",
      "metadata": {
        "colab": {
          "base_uri": "https://localhost:8080/",
          "height": 198
        },
        "id": "wpHP9RlZszBH",
        "outputId": "e7c1af73-acc5-431f-bd0d-4f4088613700"
      },
      "source": [
        "# from https://www.kaggle.com/andrewmvd/trip-advisor-hotel-reviews\n",
        "df = pd.read_csv(\"/content/tripadvisor_hotel_reviews.csv\")\n",
        "df.head()"
      ],
      "execution_count": null,
      "outputs": [
        {
          "output_type": "execute_result",
          "data": {
            "text/html": [
              "<div>\n",
              "<style scoped>\n",
              "    .dataframe tbody tr th:only-of-type {\n",
              "        vertical-align: middle;\n",
              "    }\n",
              "\n",
              "    .dataframe tbody tr th {\n",
              "        vertical-align: top;\n",
              "    }\n",
              "\n",
              "    .dataframe thead th {\n",
              "        text-align: right;\n",
              "    }\n",
              "</style>\n",
              "<table border=\"1\" class=\"dataframe\">\n",
              "  <thead>\n",
              "    <tr style=\"text-align: right;\">\n",
              "      <th></th>\n",
              "      <th>Review</th>\n",
              "      <th>Rating</th>\n",
              "    </tr>\n",
              "  </thead>\n",
              "  <tbody>\n",
              "    <tr>\n",
              "      <th>0</th>\n",
              "      <td>nice hotel expensive parking got good deal sta...</td>\n",
              "      <td>4</td>\n",
              "    </tr>\n",
              "    <tr>\n",
              "      <th>1</th>\n",
              "      <td>ok nothing special charge diamond member hilto...</td>\n",
              "      <td>2</td>\n",
              "    </tr>\n",
              "    <tr>\n",
              "      <th>2</th>\n",
              "      <td>nice rooms not 4* experience hotel monaco seat...</td>\n",
              "      <td>3</td>\n",
              "    </tr>\n",
              "    <tr>\n",
              "      <th>3</th>\n",
              "      <td>unique, great stay, wonderful time hotel monac...</td>\n",
              "      <td>5</td>\n",
              "    </tr>\n",
              "    <tr>\n",
              "      <th>4</th>\n",
              "      <td>great stay great stay, went seahawk game aweso...</td>\n",
              "      <td>5</td>\n",
              "    </tr>\n",
              "  </tbody>\n",
              "</table>\n",
              "</div>"
            ],
            "text/plain": [
              "                                              Review  Rating\n",
              "0  nice hotel expensive parking got good deal sta...       4\n",
              "1  ok nothing special charge diamond member hilto...       2\n",
              "2  nice rooms not 4* experience hotel monaco seat...       3\n",
              "3  unique, great stay, wonderful time hotel monac...       5\n",
              "4  great stay great stay, went seahawk game aweso...       5"
            ]
          },
          "metadata": {
            "tags": []
          },
          "execution_count": 4
        }
      ]
    },
    {
      "cell_type": "code",
      "metadata": {
        "colab": {
          "base_uri": "https://localhost:8080/",
          "height": 407
        },
        "id": "cEd9lz2Wt6NH",
        "outputId": "eaf7cb58-e264-454a-dabf-067444779521"
      },
      "source": [
        "pd.get_dummies(df.Rating)"
      ],
      "execution_count": null,
      "outputs": [
        {
          "output_type": "execute_result",
          "data": {
            "text/html": [
              "<div>\n",
              "<style scoped>\n",
              "    .dataframe tbody tr th:only-of-type {\n",
              "        vertical-align: middle;\n",
              "    }\n",
              "\n",
              "    .dataframe tbody tr th {\n",
              "        vertical-align: top;\n",
              "    }\n",
              "\n",
              "    .dataframe thead th {\n",
              "        text-align: right;\n",
              "    }\n",
              "</style>\n",
              "<table border=\"1\" class=\"dataframe\">\n",
              "  <thead>\n",
              "    <tr style=\"text-align: right;\">\n",
              "      <th></th>\n",
              "      <th>1</th>\n",
              "      <th>2</th>\n",
              "      <th>3</th>\n",
              "      <th>4</th>\n",
              "      <th>5</th>\n",
              "    </tr>\n",
              "  </thead>\n",
              "  <tbody>\n",
              "    <tr>\n",
              "      <th>0</th>\n",
              "      <td>0</td>\n",
              "      <td>0</td>\n",
              "      <td>0</td>\n",
              "      <td>1</td>\n",
              "      <td>0</td>\n",
              "    </tr>\n",
              "    <tr>\n",
              "      <th>1</th>\n",
              "      <td>0</td>\n",
              "      <td>1</td>\n",
              "      <td>0</td>\n",
              "      <td>0</td>\n",
              "      <td>0</td>\n",
              "    </tr>\n",
              "    <tr>\n",
              "      <th>2</th>\n",
              "      <td>0</td>\n",
              "      <td>0</td>\n",
              "      <td>1</td>\n",
              "      <td>0</td>\n",
              "      <td>0</td>\n",
              "    </tr>\n",
              "    <tr>\n",
              "      <th>3</th>\n",
              "      <td>0</td>\n",
              "      <td>0</td>\n",
              "      <td>0</td>\n",
              "      <td>0</td>\n",
              "      <td>1</td>\n",
              "    </tr>\n",
              "    <tr>\n",
              "      <th>4</th>\n",
              "      <td>0</td>\n",
              "      <td>0</td>\n",
              "      <td>0</td>\n",
              "      <td>0</td>\n",
              "      <td>1</td>\n",
              "    </tr>\n",
              "    <tr>\n",
              "      <th>...</th>\n",
              "      <td>...</td>\n",
              "      <td>...</td>\n",
              "      <td>...</td>\n",
              "      <td>...</td>\n",
              "      <td>...</td>\n",
              "    </tr>\n",
              "    <tr>\n",
              "      <th>20486</th>\n",
              "      <td>0</td>\n",
              "      <td>0</td>\n",
              "      <td>0</td>\n",
              "      <td>0</td>\n",
              "      <td>1</td>\n",
              "    </tr>\n",
              "    <tr>\n",
              "      <th>20487</th>\n",
              "      <td>0</td>\n",
              "      <td>0</td>\n",
              "      <td>0</td>\n",
              "      <td>1</td>\n",
              "      <td>0</td>\n",
              "    </tr>\n",
              "    <tr>\n",
              "      <th>20488</th>\n",
              "      <td>0</td>\n",
              "      <td>1</td>\n",
              "      <td>0</td>\n",
              "      <td>0</td>\n",
              "      <td>0</td>\n",
              "    </tr>\n",
              "    <tr>\n",
              "      <th>20489</th>\n",
              "      <td>1</td>\n",
              "      <td>0</td>\n",
              "      <td>0</td>\n",
              "      <td>0</td>\n",
              "      <td>0</td>\n",
              "    </tr>\n",
              "    <tr>\n",
              "      <th>20490</th>\n",
              "      <td>0</td>\n",
              "      <td>1</td>\n",
              "      <td>0</td>\n",
              "      <td>0</td>\n",
              "      <td>0</td>\n",
              "    </tr>\n",
              "  </tbody>\n",
              "</table>\n",
              "<p>20491 rows × 5 columns</p>\n",
              "</div>"
            ],
            "text/plain": [
              "       1  2  3  4  5\n",
              "0      0  0  0  1  0\n",
              "1      0  1  0  0  0\n",
              "2      0  0  1  0  0\n",
              "3      0  0  0  0  1\n",
              "4      0  0  0  0  1\n",
              "...   .. .. .. .. ..\n",
              "20486  0  0  0  0  1\n",
              "20487  0  0  0  1  0\n",
              "20488  0  1  0  0  0\n",
              "20489  1  0  0  0  0\n",
              "20490  0  1  0  0  0\n",
              "\n",
              "[20491 rows x 5 columns]"
            ]
          },
          "metadata": {
            "tags": []
          },
          "execution_count": 5
        }
      ]
    },
    {
      "cell_type": "code",
      "metadata": {
        "id": "Wnhutgwfsv5s"
      },
      "source": [
        "def my_model3():\n",
        "    text_input = tf.keras.layers.Input(shape=(), dtype=tf.string)\n",
        "    preprocessor = tfhub.KerasLayer(\n",
        "        \"https://tfhub.dev/tensorflow/bert_en_uncased_preprocess/3\")\n",
        "    encoder_inputs = preprocessor(text_input)\n",
        "    encoder = tfhub.KerasLayer(\n",
        "        \"https://tfhub.dev/tensorflow/small_bert/bert_en_uncased_L-8_H-128_A-2/2\",\n",
        "        trainable = False)\n",
        "    outputs = encoder(encoder_inputs)\n",
        "    pooled_output = outputs[\"pooled_output\"]      # [batch_size, 128].\n",
        "\n",
        "    x = tf.keras.layers.Dense(32, activation = \"relu\")(pooled_output)\n",
        "    y = tf.keras.layers.Dense(5, activation = \"softmax\")(x)\n",
        "\n",
        "    model = tf.keras.models.Model(\n",
        "        inputs = text_input,\n",
        "        outputs = y\n",
        "    )\n",
        "\n",
        "    return model\n"
      ],
      "execution_count": null,
      "outputs": []
    },
    {
      "cell_type": "code",
      "metadata": {
        "colab": {
          "base_uri": "https://localhost:8080/"
        },
        "id": "kk0-SD4PsxlG",
        "outputId": "305f8275-bdd1-4d34-d86b-c39a12c9e66d"
      },
      "source": [
        "model3 = my_model3()\n",
        "model3.summary()"
      ],
      "execution_count": null,
      "outputs": [
        {
          "output_type": "stream",
          "text": [
            "Model: \"model_2\"\n",
            "__________________________________________________________________________________________________\n",
            "Layer (type)                    Output Shape         Param #     Connected to                     \n",
            "==================================================================================================\n",
            "input_3 (InputLayer)            [(None,)]            0                                            \n",
            "__________________________________________________________________________________________________\n",
            "keras_layer_4 (KerasLayer)      {'input_word_ids': ( 0           input_3[0][0]                    \n",
            "__________________________________________________________________________________________________\n",
            "keras_layer_5 (KerasLayer)      {'pooled_output': (N 5575553     keras_layer_4[0][0]              \n",
            "                                                                 keras_layer_4[0][1]              \n",
            "                                                                 keras_layer_4[0][2]              \n",
            "__________________________________________________________________________________________________\n",
            "dense_6 (Dense)                 (None, 32)           4128        keras_layer_5[0][9]              \n",
            "__________________________________________________________________________________________________\n",
            "dense_7 (Dense)                 (None, 5)            165         dense_6[0][0]                    \n",
            "==================================================================================================\n",
            "Total params: 5,579,846\n",
            "Trainable params: 4,293\n",
            "Non-trainable params: 5,575,553\n",
            "__________________________________________________________________________________________________\n"
          ],
          "name": "stdout"
        }
      ]
    },
    {
      "cell_type": "code",
      "metadata": {
        "id": "2GqU0owruKoN"
      },
      "source": [
        "model3.compile(\n",
        "    optimizer = tf.keras.optimizers.Adam(learning_rate =  0.0001),\n",
        "    loss = tf.keras.losses.CategoricalCrossentropy(),\n",
        "    metrics = \"accuracy\"\n",
        ")"
      ],
      "execution_count": null,
      "outputs": []
    },
    {
      "cell_type": "code",
      "metadata": {
        "id": "h26c60ouuR5U",
        "colab": {
          "base_uri": "https://localhost:8080/"
        },
        "outputId": "b340423a-cb86-4a86-e6e4-e096aa757908"
      },
      "source": [
        "model3.fit(x = df.Review, y = pd.get_dummies(df.Rating), epochs = 5)"
      ],
      "execution_count": null,
      "outputs": [
        {
          "output_type": "stream",
          "text": [
            "Epoch 1/5\n",
            "641/641 [==============================] - 55s 77ms/step - loss: 1.3312 - accuracy: 0.4318\n",
            "Epoch 2/5\n",
            "641/641 [==============================] - 49s 77ms/step - loss: 1.2405 - accuracy: 0.4647\n",
            "Epoch 3/5\n",
            "641/641 [==============================] - 49s 77ms/step - loss: 1.2053 - accuracy: 0.4798\n",
            "Epoch 4/5\n",
            "641/641 [==============================] - 49s 77ms/step - loss: 1.1848 - accuracy: 0.4885\n",
            "Epoch 5/5\n",
            "641/641 [==============================] - 49s 77ms/step - loss: 1.1702 - accuracy: 0.4934\n"
          ],
          "name": "stdout"
        },
        {
          "output_type": "execute_result",
          "data": {
            "text/plain": [
              "<tensorflow.python.keras.callbacks.History at 0x7f2b28278550>"
            ]
          },
          "metadata": {
            "tags": []
          },
          "execution_count": 20
        }
      ]
    },
    {
      "cell_type": "code",
      "metadata": {
        "id": "i8GS8HLKy5qV"
      },
      "source": [
        "predict = model3.predict([\"this hotel is perfect\"])"
      ],
      "execution_count": null,
      "outputs": []
    },
    {
      "cell_type": "code",
      "metadata": {
        "colab": {
          "base_uri": "https://localhost:8080/"
        },
        "id": "6TOuFUu223yH",
        "outputId": "2caadc9f-a306-4c3e-e021-868e90d3b643"
      },
      "source": [
        "predict"
      ],
      "execution_count": null,
      "outputs": [
        {
          "output_type": "execute_result",
          "data": {
            "text/plain": [
              "array([[0.113783  , 0.04872115, 0.1717643 , 0.15685742, 0.5088741 ]],\n",
              "      dtype=float32)"
            ]
          },
          "metadata": {
            "tags": []
          },
          "execution_count": 22
        }
      ]
    },
    {
      "cell_type": "code",
      "metadata": {
        "colab": {
          "base_uri": "https://localhost:8080/"
        },
        "id": "e8UFY0Ol26kO",
        "outputId": "db002cf6-d216-48f7-fb50-1fc23236140a"
      },
      "source": [
        "print((tf.argmax(predict.squeeze()).numpy() + 1) * \"★\")"
      ],
      "execution_count": null,
      "outputs": [
        {
          "output_type": "stream",
          "text": [
            "★★★★★\n"
          ],
          "name": "stdout"
        }
      ]
    },
    {
      "cell_type": "code",
      "metadata": {
        "colab": {
          "base_uri": "https://localhost:8080/",
          "height": 265
        },
        "id": "rjVPNpQQ28od",
        "outputId": "7faba9f7-55ff-4e34-854d-19bb1df7fab2"
      },
      "source": [
        "_ = plt.barh([\"★\" * (i + 1) for i in range(5)], predict.squeeze())"
      ],
      "execution_count": null,
      "outputs": [
        {
          "output_type": "display_data",
          "data": {
            "image/png": "[encoded data removed]",
            "text/plain": [
              "<Figure size 432x288 with 1 Axes>"
            ]
          },
          "metadata": {
            "tags": [],
            "needs_background": "light"
          }
        }
      ]
    },
    {
      "cell_type": "code",
      "metadata": {
        "id": "kNh5XewI3W6u",
        "colab": {
          "base_uri": "https://localhost:8080/",
          "height": 265
        },
        "outputId": "24d766c0-266e-42f4-cc4c-19cd5c86a45c"
      },
      "source": [
        "predict = model3.predict([\"this hotel is shit\"])\n",
        "_ = plt.barh([\"★\" * (i + 1) for i in range(5)], predict.squeeze())\n"
      ],
      "execution_count": null,
      "outputs": [
        {
          "output_type": "display_data",
          "data": {
            "image/png": "[encoded data removed]",
            "text/plain": [
              "<Figure size 432x288 with 1 Axes>"
            ]
          },
          "metadata": {
            "tags": [],
            "needs_background": "light"
          }
        }
      ]
    },
    {
      "cell_type": "code",
      "metadata": {
        "id": "-MTgKlMKw6sn"
      },
      "source": [
        "model3.predict([\"china did the covid19\"])"
      ],
      "execution_count": null,
      "outputs": []
    },
    {
      "cell_type": "code",
      "metadata": {
        "id": "_D5b7paWxpM9"
      },
      "source": [
        "model3.predict([\"this hotel is perfect\"])"
      ],
      "execution_count": null,
      "outputs": []
    },
    {
      "cell_type": "code",
      "metadata": {
        "id": "6cC3G5eVxhW_"
      },
      "source": [
        "model3.predict([\"trivago\"])"
      ],
      "execution_count": null,
      "outputs": []
    },
    {
      "cell_type": "code",
      "metadata": {
        "id": "JK3UrL9DRvxG"
      },
      "source": [
        "print((tf.argmax(predict.squeeze()).numpy() + 1) * \"★\")"
      ],
      "execution_count": null,
      "outputs": []
    },
    {
      "cell_type": "markdown",
      "metadata": {
        "id": "g9nUB8FUGlH2"
      },
      "source": [
        "# Extra"
      ]
    },
    {
      "cell_type": "markdown",
      "metadata": {
        "id": "sSubJOAZGnwC"
      },
      "source": [
        "## Food Dataset"
      ]
    },
    {
      "cell_type": "code",
      "metadata": {
        "id": "s_BSgXFzGRDD"
      },
      "source": [
        "# from https://www.kaggle.com/kmader/food41\n",
        "file_id = \"1VB8AeJFJ0ylbJDmi61dNbwpa50u33z5Q\"\n",
        "folder = \"newer_food\"\n",
        "\n",
        "GoogleDriveDownloader.download_file_from_google_drive(\n",
        "    file_id = file_id,\n",
        "    dest_path = \"/content/newer_food.zip\",\n",
        "    unzip = True\n",
        ")"
      ],
      "execution_count": null,
      "outputs": []
    },
    {
      "cell_type": "markdown",
      "metadata": {
        "id": "2Z3HRjLmGpxI"
      },
      "source": [
        "## Pokemon Dataset"
      ]
    },
    {
      "cell_type": "code",
      "metadata": {
        "id": "63s-8ckWGrjS"
      },
      "source": [
        "# from https://www.kaggle.com/thedagger/pokemon-generation-one\n",
        "file_id = \"1lKfmEjyovEvvZ2zBUkdJwl2fnF4C5OyM\" # pokemon dataset id\n",
        "\n",
        "# download data\n",
        "GoogleDriveDownloader.download_file_from_google_drive(\n",
        "    file_id = file_id,\n",
        "    dest_path = \"/content/pokemon.zip\",\n",
        "    unzip = True\n",
        ")\n"
      ],
      "execution_count": null,
      "outputs": []
    }
  ]
}