{
  "nbformat": 4,
  "nbformat_minor": 0,
  "metadata": {
    "colab": {
      "name": "buzzleixo.ipynb",
      "provenance": [],
      "collapsed_sections": [],
      "authorship_tag": "ABX9TyOzHF9FW2bLne9NgWlxBfPK",
      "include_colab_link": true
    },
    "kernelspec": {
      "name": "python3",
      "display_name": "Python 3"
    },
    "accelerator": "GPU"
  },
  "cells": [
    {
      "cell_type": "markdown",
      "metadata": {
        "id": "view-in-github",
        "colab_type": "text"
      },
      "source": [
        "<a href=\"https://colab.research.google.com/github/AllanKamimura/AI/blob/master/buzzleixo/buzzleixo.ipynb\" target=\"_parent\"><img src=\"https://colab.research.google.com/assets/colab-badge.svg\" alt=\"Open In Colab\"/></a>"
      ]
    },
    {
      "cell_type": "markdown",
      "metadata": {
        "id": "pB7nMD622mbm"
      },
      "source": [
        "### Inicializador"
      ]
    },
    {
      "cell_type": "code",
      "metadata": {
        "id": "KplhAvBh2rre"
      },
      "source": [
        "#importa as bibliotecas ai\r\n",
        "import os\r\n",
        "import zipfile\r\n",
        "import datetime\r\n",
        "import numpy as np\r\n",
        "import tensorflow as tf\r\n",
        "import matplotlib.pyplot as plt\r\n",
        "\r\n",
        "from google.colab import files\r\n",
        "from tensorflow.keras.preprocessing import image\r\n",
        "from tensorflow.keras.preprocessing.image import ImageDataGenerator"
      ],
      "execution_count": null,
      "outputs": []
    },
    {
      "cell_type": "code",
      "metadata": {
        "id": "7MvZhWZpvkWF",
        "colab": {
          "base_uri": "https://localhost:8080/"
        },
        "outputId": "2c196e1b-7ca1-4b32-fb8f-5f260f1ac42c"
      },
      "source": [
        "#baixa os arquivos do dataset\n",
        "!wget --no-check-certificate \\\n",
        "    https://github.com/AllanKamimura/AI/blob/master/buzzleixo/train.zip?raw=true \\\n",
        "    -O /tmp/Train.zip"
      ],
      "execution_count": null,
      "outputs": [
        {
          "output_type": "stream",
          "text": [
            "--2020-12-24 00:31:41--  https://github.com/AllanKamimura/AI/blob/master/buzzleixo/train.zip?raw=true\n",
            "Resolving github.com (github.com)... 140.82.114.4\n",
            "Connecting to github.com (github.com)|140.82.114.4|:443... connected.\n",
            "HTTP request sent, awaiting response... 302 Found\n",
            "Location: https://github.com/AllanKamimura/AI/raw/master/buzzleixo/train.zip [following]\n",
            "--2020-12-24 00:31:41--  https://github.com/AllanKamimura/AI/raw/master/buzzleixo/train.zip\n",
            "Reusing existing connection to github.com:443.\n",
            "HTTP request sent, awaiting response... 302 Found\n",
            "Location: https://raw.githubusercontent.com/AllanKamimura/AI/master/buzzleixo/train.zip [following]\n",
            "--2020-12-24 00:31:41--  https://raw.githubusercontent.com/AllanKamimura/AI/master/buzzleixo/train.zip\n",
            "Resolving raw.githubusercontent.com (raw.githubusercontent.com)... 151.101.0.133, 151.101.64.133, 151.101.128.133, ...\n",
            "Connecting to raw.githubusercontent.com (raw.githubusercontent.com)|151.101.0.133|:443... connected.\n",
            "HTTP request sent, awaiting response... 200 OK\n",
            "Length: 11368763 (11M) [application/zip]\n",
            "Saving to: ‘/tmp/Train.zip’\n",
            "\n",
            "/tmp/Train.zip      100%[===================>]  10.84M  --.-KB/s    in 0.07s   \n",
            "\n",
            "2020-12-24 00:31:41 (147 MB/s) - ‘/tmp/Train.zip’ saved [11368763/11368763]\n",
            "\n"
          ],
          "name": "stdout"
        }
      ]
    },
    {
      "cell_type": "markdown",
      "metadata": {
        "id": "wcZmojWW2ulu"
      },
      "source": [
        "### Estrutura dos dados\r\n",
        "```\r\n",
        "── train\r\n",
        "    ├── Buzz\r\n",
        "    │   ├── Buzz1.jpg\r\n",
        "    │   ├── Buzz2.jpg\r\n",
        "    │   └──  ...\r\n",
        "    └── Juju\r\n",
        "        ├── Juju1.jpg\r\n",
        "        ├── Juju2.jpg\r\n",
        "        └──  ...\r\n",
        "```"
      ]
    },
    {
      "cell_type": "code",
      "metadata": {
        "id": "-otxdfs_J5Uy",
        "colab": {
          "base_uri": "https://localhost:8080/"
        },
        "outputId": "be5f5707-890f-448f-f8fa-6e7ed92528eb"
      },
      "source": [
        "main_path = \"/tmp\"\n",
        "local_zip = '/tmp/Train.zip'\n",
        "zip_ref = zipfile.ZipFile(local_zip, 'r')\n",
        "zip_ref.extractall(main_path)\n",
        "zip_ref.close()\n",
        "\n",
        "# Directory with our training buzz pictures\n",
        "train_buzz_dir = os.path.join(main_path, \"train/Buzz\")\n",
        "\n",
        "# Directory with our training juju pictures\n",
        "train_juju_dir = os.path.join(main_path, \"train/Juju\")\n",
        "\n",
        "train_buzz_names = os.listdir(train_buzz_dir)\n",
        "print(train_buzz_names[:10])\n",
        "\n",
        "train_juju_names = os.listdir(train_juju_dir)\n",
        "print(train_juju_names[:10])\n",
        "\n",
        "print('total training buzz images:', len(os.listdir(train_buzz_dir)))\n",
        "print('total training juju images:', len(os.listdir(train_juju_dir)))"
      ],
      "execution_count": null,
      "outputs": [
        {
          "output_type": "stream",
          "text": [
            "['BLTitle.jpg', 'Screenshot_11.jpg', 'D_NQ_NP_985131-MLB31840915989_082019-V.jpg', 'Screenshot_12.jpg', 'final_5cae268d4dc5770013bcd43f_709784.jpg', '7899871606458Amp.jpg', 'maxresdefault.jpg', 'images.jpg', '1vmrbh.jpg', 'buzz-lightyear.jpg']\n",
            "['Screenshot_11.jpg', 'Screenshot_1611122.jpg', '21276462a6f63c2244376bbdff819e83.jpg', 'tumblr_61b805199a3ebd6db51989787dd84cec_893e86ea_400.jpg', 'maxresdefault.jpg', 'images.jpg', 'tumblr_pms7pwV4sB1xgc3e1o4_250.jpg', '25ce22d505d22097319cedacde8893d8.jpg', 'images277.jpg', '7aa5da8bf992433d0c7c42e782882a0f.jpg']\n",
            "total training buzz images: 50\n",
            "total training juju images: 50\n"
          ],
          "name": "stdout"
        }
      ]
    },
    {
      "cell_type": "code",
      "metadata": {
        "id": "wS7t45J6NuTJ",
        "colab": {
          "base_uri": "https://localhost:8080/"
        },
        "outputId": "9abe0638-1c15-44e5-97e3-09665a5382f8"
      },
      "source": [
        "# All images will be rescaled by 1./255 + data augmentation\n",
        "\n",
        "train_datagen = ImageDataGenerator(\n",
        "    rescale = 1/255,\n",
        "    rotation_range = 45,\n",
        "    width_shift_range = 0.4,\n",
        "    height_shift_range = 0.4,\n",
        "    shear_range = 0.2,\n",
        "    horizontal_flip = True,\n",
        "    vertical_flip = True,\n",
        "    zoom_range = 0.5,\n",
        "    fill_mode = 'nearest')\n",
        "\n",
        "\n",
        "# Flow training images in batches  using train_datagen generator\n",
        "train_generator = train_datagen.flow_from_directory(\n",
        "        os.path.join(main_path,'train'),  # This is the source directory for training images\n",
        "        target_size=(300, 300),  # All images will be resized to 300x300\n",
        "        batch_size= 10,\n",
        "        shuffle = True,\n",
        "        # Since we use binary_crossentropy loss, we need binary labels\n",
        "        class_mode = 'binary')"
      ],
      "execution_count": null,
      "outputs": [
        {
          "output_type": "stream",
          "text": [
            "Found 100 images belonging to 2 classes.\n"
          ],
          "name": "stdout"
        }
      ]
    },
    {
      "cell_type": "markdown",
      "metadata": {
        "id": "Pn_DVboz2-tC"
      },
      "source": [
        "### Rede"
      ]
    },
    {
      "cell_type": "code",
      "metadata": {
        "id": "3AZ3IrKCOqMN",
        "colab": {
          "base_uri": "https://localhost:8080/"
        },
        "outputId": "f4a69215-a603-4043-cf2e-dc7491164d35"
      },
      "source": [
        "nodes = 32 \n",
        "\n",
        "model = tf.keras.models.Sequential([\n",
        "    tf.keras.layers.Conv2D( nodes , (3,3), activation = \"relu\", input_shape = (300,300,3)),\n",
        "    tf.keras.layers.MaxPooling2D(2,2),\n",
        "    tf.keras.layers.Conv2D( 2*nodes, (3,3), activation = \"relu\"),\n",
        "    tf.keras.layers.MaxPooling2D(2,2),\n",
        "    tf.keras.layers.Conv2D( 4*nodes, (3,3), activation = \"relu\"),\n",
        "    tf.keras.layers.MaxPooling2D(2,2),\n",
        "    tf.keras.layers.Conv2D( 8*nodes, (3,3), activation = \"relu\"),\n",
        "    tf.keras.layers.MaxPooling2D(2,2),\n",
        "    tf.keras.layers.Flatten(),\n",
        "    tf.keras.layers.Dense( 10*nodes, activation = \"relu\"),\n",
        "    tf.keras.layers.Dense(1, activation = \"sigmoid\")])\n",
        "model.summary()\n"
      ],
      "execution_count": null,
      "outputs": [
        {
          "output_type": "stream",
          "text": [
            "Model: \"sequential_1\"\n",
            "_________________________________________________________________\n",
            "Layer (type)                 Output Shape              Param #   \n",
            "=================================================================\n",
            "conv2d_4 (Conv2D)            (None, 298, 298, 32)      896       \n",
            "_________________________________________________________________\n",
            "max_pooling2d_4 (MaxPooling2 (None, 149, 149, 32)      0         \n",
            "_________________________________________________________________\n",
            "conv2d_5 (Conv2D)            (None, 147, 147, 64)      18496     \n",
            "_________________________________________________________________\n",
            "max_pooling2d_5 (MaxPooling2 (None, 73, 73, 64)        0         \n",
            "_________________________________________________________________\n",
            "conv2d_6 (Conv2D)            (None, 71, 71, 128)       73856     \n",
            "_________________________________________________________________\n",
            "max_pooling2d_6 (MaxPooling2 (None, 35, 35, 128)       0         \n",
            "_________________________________________________________________\n",
            "conv2d_7 (Conv2D)            (None, 33, 33, 256)       295168    \n",
            "_________________________________________________________________\n",
            "max_pooling2d_7 (MaxPooling2 (None, 16, 16, 256)       0         \n",
            "_________________________________________________________________\n",
            "flatten_1 (Flatten)          (None, 65536)             0         \n",
            "_________________________________________________________________\n",
            "dense_2 (Dense)              (None, 320)               20971840  \n",
            "_________________________________________________________________\n",
            "dense_3 (Dense)              (None, 1)                 321       \n",
            "=================================================================\n",
            "Total params: 21,360,577\n",
            "Trainable params: 21,360,577\n",
            "Non-trainable params: 0\n",
            "_________________________________________________________________\n"
          ],
          "name": "stdout"
        }
      ]
    },
    {
      "cell_type": "code",
      "metadata": {
        "id": "gcV2uSF6Oz9W"
      },
      "source": [
        "model.compile(\n",
        "    loss = \"binary_crossentropy\", \n",
        "    optimizer = \"RMSprop\", \n",
        "    metrics = [\"accuracy\"])"
      ],
      "execution_count": null,
      "outputs": []
    },
    {
      "cell_type": "code",
      "metadata": {
        "id": "kxQJJAZxPAl7",
        "colab": {
          "base_uri": "https://localhost:8080/"
        },
        "outputId": "295ed3ff-3735-45eb-d74a-6ca52d06d8bb"
      },
      "source": [
        "history = model.fit(\n",
        "    train_generator,\n",
        "    steps_per_epoch = 10,\n",
        "    batch_size = 10,\n",
        "    epochs = 25,\n",
        "    verbose = 1)"
      ],
      "execution_count": null,
      "outputs": [
        {
          "output_type": "stream",
          "text": [
            "Epoch 1/25\n",
            "10/10 [==============================] - 3s 298ms/step - loss: 0.4448 - accuracy: 0.8400\n",
            "Epoch 2/25\n",
            "10/10 [==============================] - 3s 298ms/step - loss: 0.5257 - accuracy: 0.8300\n",
            "Epoch 3/25\n",
            "10/10 [==============================] - 3s 292ms/step - loss: 0.7562 - accuracy: 0.7200\n",
            "Epoch 4/25\n",
            "10/10 [==============================] - 3s 280ms/step - loss: 0.3218 - accuracy: 0.8900\n",
            "Epoch 5/25\n",
            "10/10 [==============================] - 3s 292ms/step - loss: 0.4751 - accuracy: 0.7700\n",
            "Epoch 6/25\n",
            "10/10 [==============================] - 3s 299ms/step - loss: 0.3834 - accuracy: 0.8400\n",
            "Epoch 7/25\n",
            "10/10 [==============================] - 3s 281ms/step - loss: 0.4568 - accuracy: 0.8300\n",
            "Epoch 8/25\n",
            "10/10 [==============================] - 3s 295ms/step - loss: 0.5247 - accuracy: 0.7500\n",
            "Epoch 9/25\n",
            "10/10 [==============================] - 3s 278ms/step - loss: 0.7064 - accuracy: 0.7700\n",
            "Epoch 10/25\n",
            "10/10 [==============================] - 3s 279ms/step - loss: 0.5191 - accuracy: 0.7500\n",
            "Epoch 11/25\n",
            "10/10 [==============================] - 3s 295ms/step - loss: 0.4516 - accuracy: 0.8600\n",
            "Epoch 12/25\n",
            "10/10 [==============================] - 3s 300ms/step - loss: 0.3421 - accuracy: 0.8600\n",
            "Epoch 13/25\n",
            "10/10 [==============================] - 3s 303ms/step - loss: 0.4570 - accuracy: 0.8100\n",
            "Epoch 14/25\n",
            "10/10 [==============================] - 3s 303ms/step - loss: 0.4214 - accuracy: 0.8300\n",
            "Epoch 15/25\n",
            "10/10 [==============================] - 3s 301ms/step - loss: 0.3248 - accuracy: 0.8800\n",
            "Epoch 16/25\n",
            "10/10 [==============================] - 3s 297ms/step - loss: 1.1449 - accuracy: 0.7300\n",
            "Epoch 17/25\n",
            "10/10 [==============================] - 3s 297ms/step - loss: 0.4168 - accuracy: 0.8300\n",
            "Epoch 18/25\n",
            "10/10 [==============================] - 3s 276ms/step - loss: 0.3036 - accuracy: 0.8600\n",
            "Epoch 19/25\n",
            "10/10 [==============================] - 3s 280ms/step - loss: 1.1472 - accuracy: 0.6700\n",
            "Epoch 20/25\n",
            "10/10 [==============================] - 3s 295ms/step - loss: 0.4389 - accuracy: 0.7300\n",
            "Epoch 21/25\n",
            "10/10 [==============================] - 3s 279ms/step - loss: 0.2741 - accuracy: 0.8900\n",
            "Epoch 22/25\n",
            "10/10 [==============================] - 3s 279ms/step - loss: 0.2637 - accuracy: 0.9100\n",
            "Epoch 23/25\n",
            "10/10 [==============================] - 3s 298ms/step - loss: 0.4720 - accuracy: 0.7500\n",
            "Epoch 24/25\n",
            "10/10 [==============================] - 3s 295ms/step - loss: 0.4991 - accuracy: 0.8800\n",
            "Epoch 25/25\n",
            "10/10 [==============================] - 3s 297ms/step - loss: 0.2858 - accuracy: 0.8600\n"
          ],
          "name": "stdout"
        }
      ]
    },
    {
      "cell_type": "markdown",
      "metadata": {
        "id": "tuPEauVg3CCP"
      },
      "source": [
        "### Faça o upload da imagem e veja o resultado"
      ]
    },
    {
      "cell_type": "code",
      "metadata": {
        "id": "8Ex1TWN6PK7k"
      },
      "source": [
        "uploaded = files.upload() #botão de fazer upload\n",
        "\n",
        "for fn in uploaded.keys():\n",
        " \n",
        "  # predicting images\n",
        "  path = '/content/' + fn #salva as imagens uploudadas aqui\n",
        "  img = image.load_img(path, target_size=(300, 300)) #usa o keras.preprocess para abrir a imagem\n",
        "  x = image.img_to_array(img) # transforma a imagem em um array\n",
        "  x = np.expand_dims(x, axis=0) #aumenta as dimensões do array (batch_size, altura, largura, canal)\n",
        "\n",
        "  images = np.vstack([x])\n",
        "  classes = model.predict(images, batch_size = 10)\n",
        "  if classes[0] > 0.5:\n",
        "    print(fn + \" É UM ABACATE\")\n",
        "    img = image.load_img(os.path.join(main_path,'aleixo.jpg'))\n",
        "    plt.imshow(img)\n",
        "    plt.show()\n",
        "  else:\n",
        "    print(fn + \" É UM BUZZLATIR\")\n",
        "    img = image.load_img(os.path.join(main_path,'buzz.jpg'))\n",
        "    plt.imshow(img)\n",
        "    plt.show()"
      ],
      "execution_count": null,
      "outputs": []
    },
    {
      "cell_type": "markdown",
      "metadata": {
        "id": "cPCScNlK3Es1"
      },
      "source": [
        "### Salve seus pesos\r\n",
        "obs os arquivos temporarios (/tmp/) serão deletados quando a sessão for encerrada"
      ]
    },
    {
      "cell_type": "code",
      "metadata": {
        "id": "vTe5xnpaah1W"
      },
      "source": [
        "#cria um savepoint com a hora num fuso horario perdido ai\r\n",
        "def save():\r\n",
        "    now = datetime.datetime.now() \r\n",
        "    now = \"{}_{}_{}_{}_{}\".format(now.year,now.month,now.day,now.hour,now.minute)\r\n",
        "    model.save(os.path.join(main_path, now + \".h5\"))\r\n",
        "save()"
      ],
      "execution_count": null,
      "outputs": []
    }
  ]
}