{
  "nbformat": 4,
  "nbformat_minor": 0,
  "metadata": {
    "colab": {
      "name": "buzzleixo.ipynb",
      "provenance": [],
      "collapsed_sections": [],
      "include_colab_link": true
    },
    "kernelspec": {
      "name": "python3",
      "display_name": "Python 3"
    },
    "accelerator": "GPU"
  },
  "cells": [
    {
      "cell_type": "markdown",
      "metadata": {
        "id": "view-in-github",
        "colab_type": "text"
      },
      "source": [
        "<a href=\"https://colab.research.google.com/github/AllanKamimura/AI/blob/master/buzzleixo/buzzleixo.ipynb\" target=\"_parent\"><img src=\"https://colab.research.google.com/assets/colab-badge.svg\" alt=\"Open In Colab\"/></a>"
      ]
    },
    {
      "cell_type": "markdown",
      "metadata": {
        "id": "l9XqSDQEgRwK"
      },
      "source": [
        "# Buzzleixo\r\n",
        "is a CNN for image classification, it takes an image input of either a BuzzLightyear or a Vovó Juju and returns a binary classification."
      ]
    },
    {
      "cell_type": "markdown",
      "metadata": {
        "id": "pB7nMD622mbm"
      },
      "source": [
        "### Inicializador"
      ]
    },
    {
      "cell_type": "code",
      "metadata": {
        "id": "KplhAvBh2rre"
      },
      "source": [
        "#importa as bibliotecas ai\r\n",
        "import os\r\n",
        "import zipfile\r\n",
        "import datetime\r\n",
        "import numpy as np\r\n",
        "import tensorflow as tf\r\n",
        "import matplotlib.pyplot as plt\r\n",
        "\r\n",
        "from google.colab import files\r\n",
        "from tensorflow.keras.preprocessing import image\r\n",
        "from tensorflow.keras.preprocessing.image import ImageDataGenerator"
      ],
      "execution_count": 2,
      "outputs": []
    },
    {
      "cell_type": "code",
      "metadata": {
        "id": "7MvZhWZpvkWF",
        "colab": {
          "base_uri": "https://localhost:8080/"
        },
        "outputId": "3a474afc-0928-4a0b-d1be-686d9e3d0032"
      },
      "source": [
        "#baixa os arquivos do dataset\n",
        "!wget --no-check-certificate \\\n",
        "    https://github.com/AllanKamimura/AI/blob/master/buzzleixo/train.zip?raw=true \\\n",
        "    -O /tmp/Train.zip"
      ],
      "execution_count": 3,
      "outputs": [
        {
          "output_type": "stream",
          "text": [
            "--2020-12-25 15:56:05--  https://github.com/AllanKamimura/AI/blob/master/buzzleixo/train.zip?raw=true\n",
            "Resolving github.com (github.com)... 192.30.255.113\n",
            "Connecting to github.com (github.com)|192.30.255.113|:443... connected.\n",
            "HTTP request sent, awaiting response... 302 Found\n",
            "Location: https://github.com/AllanKamimura/AI/raw/master/buzzleixo/train.zip [following]\n",
            "--2020-12-25 15:56:05--  https://github.com/AllanKamimura/AI/raw/master/buzzleixo/train.zip\n",
            "Reusing existing connection to github.com:443.\n",
            "HTTP request sent, awaiting response... 302 Found\n",
            "Location: https://raw.githubusercontent.com/AllanKamimura/AI/master/buzzleixo/train.zip [following]\n",
            "--2020-12-25 15:56:05--  https://raw.githubusercontent.com/AllanKamimura/AI/master/buzzleixo/train.zip\n",
            "Resolving raw.githubusercontent.com (raw.githubusercontent.com)... 151.101.0.133, 151.101.64.133, 151.101.128.133, ...\n",
            "Connecting to raw.githubusercontent.com (raw.githubusercontent.com)|151.101.0.133|:443... connected.\n",
            "HTTP request sent, awaiting response... 200 OK\n",
            "Length: 11368763 (11M) [application/zip]\n",
            "Saving to: ‘/tmp/Train.zip’\n",
            "\n",
            "/tmp/Train.zip      100%[===================>]  10.84M  58.4MB/s    in 0.2s    \n",
            "\n",
            "2020-12-25 15:56:05 (58.4 MB/s) - ‘/tmp/Train.zip’ saved [11368763/11368763]\n",
            "\n"
          ],
          "name": "stdout"
        }
      ]
    },
    {
      "cell_type": "markdown",
      "metadata": {
        "id": "wcZmojWW2ulu"
      },
      "source": [
        "### Estrutura dos dados\r\n",
        "```\r\n",
        "── train\r\n",
        "    ├── Buzz\r\n",
        "    │   ├── Buzz1.jpg\r\n",
        "    │   ├── Buzz2.jpg\r\n",
        "    │   └──  ...\r\n",
        "    └── Juju\r\n",
        "        ├── Juju1.jpg\r\n",
        "        ├── Juju2.jpg\r\n",
        "        └──  ...\r\n",
        "```"
      ]
    },
    {
      "cell_type": "code",
      "metadata": {
        "id": "-otxdfs_J5Uy",
        "colab": {
          "base_uri": "https://localhost:8080/"
        },
        "outputId": "5a1d892c-2dbc-4c94-b9bb-7df992ff7b3a"
      },
      "source": [
        "main_path = \"/tmp\"\n",
        "local_zip = '/tmp/Train.zip'\n",
        "zip_ref = zipfile.ZipFile(local_zip, 'r')\n",
        "zip_ref.extractall(main_path)\n",
        "zip_ref.close()\n",
        "\n",
        "# Directory with our training buzz pictures\n",
        "train_buzz_dir = os.path.join(main_path, \"train/Buzz\")\n",
        "\n",
        "# Directory with our training juju pictures\n",
        "train_juju_dir = os.path.join(main_path, \"train/Juju\")\n",
        "\n",
        "train_buzz_names = os.listdir(train_buzz_dir)\n",
        "print(train_buzz_names[:10])\n",
        "\n",
        "train_juju_names = os.listdir(train_juju_dir)\n",
        "print(train_juju_names[:10])\n",
        "\n",
        "print('total training buzz images:', len(os.listdir(train_buzz_dir)))\n",
        "print('total training juju images:', len(os.listdir(train_juju_dir)))"
      ],
      "execution_count": 4,
      "outputs": [
        {
          "output_type": "stream",
          "text": [
            "['BLTitle.jpg', 'Screenshot_11.jpg', 'D_NQ_NP_985131-MLB31840915989_082019-V.jpg', 'Screenshot_12.jpg', 'final_5cae268d4dc5770013bcd43f_709784.jpg', '7899871606458Amp.jpg', 'maxresdefault.jpg', 'images.jpg', '1vmrbh.jpg', 'buzz-lightyear.jpg']\n",
            "['Screenshot_11.jpg', 'Screenshot_1611122.jpg', '21276462a6f63c2244376bbdff819e83.jpg', 'tumblr_61b805199a3ebd6db51989787dd84cec_893e86ea_400.jpg', 'maxresdefault.jpg', 'images.jpg', 'tumblr_pms7pwV4sB1xgc3e1o4_250.jpg', '25ce22d505d22097319cedacde8893d8.jpg', 'images277.jpg', '7aa5da8bf992433d0c7c42e782882a0f.jpg']\n",
            "total training buzz images: 50\n",
            "total training juju images: 50\n"
          ],
          "name": "stdout"
        }
      ]
    },
    {
      "cell_type": "code",
      "metadata": {
        "id": "wS7t45J6NuTJ",
        "colab": {
          "base_uri": "https://localhost:8080/"
        },
        "outputId": "787bc145-bcc4-4408-d0c3-945568451ad0"
      },
      "source": [
        "# All images will be rescaled by 1./255 + data augmentation\n",
        "\n",
        "train_datagen = ImageDataGenerator(\n",
        "    rescale = 1/255,\n",
        "    rotation_range = 45,\n",
        "    width_shift_range = 0.4,\n",
        "    height_shift_range = 0.4,\n",
        "    shear_range = 0.2,\n",
        "    horizontal_flip = True,\n",
        "    vertical_flip = True,\n",
        "    zoom_range = 0.5,\n",
        "    fill_mode = 'nearest')\n",
        "\n",
        "\n",
        "# Flow training images in batches  using train_datagen generator\n",
        "train_generator = train_datagen.flow_from_directory(\n",
        "        os.path.join(main_path,'train'),  # This is the source directory for training images\n",
        "        target_size=(300, 300),  # All images will be resized to 300x300\n",
        "        batch_size= 10,\n",
        "        shuffle = True,\n",
        "        # Since we use binary_crossentropy loss, we need binary labels\n",
        "        class_mode = 'binary')"
      ],
      "execution_count": 5,
      "outputs": [
        {
          "output_type": "stream",
          "text": [
            "Found 100 images belonging to 2 classes.\n"
          ],
          "name": "stdout"
        }
      ]
    },
    {
      "cell_type": "markdown",
      "metadata": {
        "id": "Pn_DVboz2-tC"
      },
      "source": [
        "### Rede"
      ]
    },
    {
      "cell_type": "code",
      "metadata": {
        "id": "3AZ3IrKCOqMN",
        "colab": {
          "base_uri": "https://localhost:8080/"
        },
        "outputId": "b1ff78d3-3ea3-4f6f-e3cc-3f3dabcaea87"
      },
      "source": [
        "nodes = 32 \n",
        "\n",
        "model = tf.keras.models.Sequential([\n",
        "    tf.keras.layers.Conv2D( nodes , (3,3), activation = \"relu\", input_shape = (300,300,3)),\n",
        "    tf.keras.layers.MaxPooling2D(2,2),\n",
        "    tf.keras.layers.Conv2D( 2*nodes, (3,3), activation = \"relu\"),\n",
        "    tf.keras.layers.MaxPooling2D(2,2),\n",
        "    tf.keras.layers.Conv2D( 4*nodes, (3,3), activation = \"relu\"),\n",
        "    tf.keras.layers.MaxPooling2D(2,2),\n",
        "    tf.keras.layers.Conv2D( 8*nodes, (3,3), activation = \"relu\"),\n",
        "    tf.keras.layers.MaxPooling2D(2,2),\n",
        "    tf.keras.layers.Flatten(),\n",
        "    tf.keras.layers.Dense( 10*nodes, activation = \"relu\"),\n",
        "    tf.keras.layers.Dense(1, activation = \"sigmoid\")])\n",
        "model.summary()\n"
      ],
      "execution_count": 6,
      "outputs": [
        {
          "output_type": "stream",
          "text": [
            "Model: \"sequential\"\n",
            "_________________________________________________________________\n",
            "Layer (type)                 Output Shape              Param #   \n",
            "=================================================================\n",
            "conv2d (Conv2D)              (None, 298, 298, 32)      896       \n",
            "_________________________________________________________________\n",
            "max_pooling2d (MaxPooling2D) (None, 149, 149, 32)      0         \n",
            "_________________________________________________________________\n",
            "conv2d_1 (Conv2D)            (None, 147, 147, 64)      18496     \n",
            "_________________________________________________________________\n",
            "max_pooling2d_1 (MaxPooling2 (None, 73, 73, 64)        0         \n",
            "_________________________________________________________________\n",
            "conv2d_2 (Conv2D)            (None, 71, 71, 128)       73856     \n",
            "_________________________________________________________________\n",
            "max_pooling2d_2 (MaxPooling2 (None, 35, 35, 128)       0         \n",
            "_________________________________________________________________\n",
            "conv2d_3 (Conv2D)            (None, 33, 33, 256)       295168    \n",
            "_________________________________________________________________\n",
            "max_pooling2d_3 (MaxPooling2 (None, 16, 16, 256)       0         \n",
            "_________________________________________________________________\n",
            "flatten (Flatten)            (None, 65536)             0         \n",
            "_________________________________________________________________\n",
            "dense (Dense)                (None, 320)               20971840  \n",
            "_________________________________________________________________\n",
            "dense_1 (Dense)              (None, 1)                 321       \n",
            "=================================================================\n",
            "Total params: 21,360,577\n",
            "Trainable params: 21,360,577\n",
            "Non-trainable params: 0\n",
            "_________________________________________________________________\n"
          ],
          "name": "stdout"
        }
      ]
    },
    {
      "cell_type": "code",
      "metadata": {
        "id": "gcV2uSF6Oz9W"
      },
      "source": [
        "model.compile(\n",
        "    loss = \"binary_crossentropy\", \n",
        "    optimizer = \"RMSprop\", \n",
        "    metrics = [\"accuracy\"])"
      ],
      "execution_count": 7,
      "outputs": []
    },
    {
      "cell_type": "code",
      "metadata": {
        "id": "kxQJJAZxPAl7",
        "colab": {
          "base_uri": "https://localhost:8080/"
        },
        "outputId": "9766cd78-42cc-4ca8-efca-2926b6e51309"
      },
      "source": [
        "callback = tf.keras.callbacks.EarlyStopping(monitor = \"accuracy\", patience = 10, restore_best_weights = True)\n",
        "history = model.fit(\n",
        "    train_generator,\n",
        "    steps_per_epoch = 10,\n",
        "    batch_size = 10,\n",
        "    epochs = 100,\n",
        "    verbose = 1,\n",
        "    callbacks = [callback])"
      ],
      "execution_count": 8,
      "outputs": [
        {
          "output_type": "stream",
          "text": [
            "Epoch 1/100\n",
            "10/10 [==============================] - 11s 291ms/step - loss: 11.1105 - accuracy: 0.4472\n",
            "Epoch 2/100\n",
            "10/10 [==============================] - 3s 324ms/step - loss: 0.7025 - accuracy: 0.5214\n",
            "Epoch 3/100\n",
            "10/10 [==============================] - 3s 321ms/step - loss: 0.6938 - accuracy: 0.5020\n",
            "Epoch 4/100\n",
            "10/10 [==============================] - 3s 297ms/step - loss: 0.7018 - accuracy: 0.5497\n",
            "Epoch 5/100\n",
            "10/10 [==============================] - 3s 316ms/step - loss: 0.6707 - accuracy: 0.5761\n",
            "Epoch 6/100\n",
            "10/10 [==============================] - 3s 310ms/step - loss: 0.6753 - accuracy: 0.5413\n",
            "Epoch 7/100\n",
            "10/10 [==============================] - 3s 296ms/step - loss: 0.7180 - accuracy: 0.5627\n",
            "Epoch 8/100\n",
            "10/10 [==============================] - 3s 297ms/step - loss: 0.7013 - accuracy: 0.5977\n",
            "Epoch 9/100\n",
            "10/10 [==============================] - 3s 318ms/step - loss: 1.2439 - accuracy: 0.5528\n",
            "Epoch 10/100\n",
            "10/10 [==============================] - 3s 314ms/step - loss: 1.3399 - accuracy: 0.6738\n",
            "Epoch 11/100\n",
            "10/10 [==============================] - 3s 272ms/step - loss: 0.7330 - accuracy: 0.6350\n",
            "Epoch 12/100\n",
            "10/10 [==============================] - 3s 293ms/step - loss: 0.5972 - accuracy: 0.6445\n",
            "Epoch 13/100\n",
            "10/10 [==============================] - 3s 310ms/step - loss: 0.6269 - accuracy: 0.6937\n",
            "Epoch 14/100\n",
            "10/10 [==============================] - 3s 305ms/step - loss: 0.7644 - accuracy: 0.7055\n",
            "Epoch 15/100\n",
            "10/10 [==============================] - 3s 311ms/step - loss: 0.7143 - accuracy: 0.7018\n",
            "Epoch 16/100\n",
            "10/10 [==============================] - 3s 312ms/step - loss: 0.6465 - accuracy: 0.6677\n",
            "Epoch 17/100\n",
            "10/10 [==============================] - 3s 298ms/step - loss: 0.5893 - accuracy: 0.6390\n",
            "Epoch 18/100\n",
            "10/10 [==============================] - 3s 307ms/step - loss: 0.7202 - accuracy: 0.7090\n",
            "Epoch 19/100\n",
            "10/10 [==============================] - 3s 309ms/step - loss: 0.6199 - accuracy: 0.6841\n",
            "Epoch 20/100\n",
            "10/10 [==============================] - 3s 306ms/step - loss: 0.6025 - accuracy: 0.7042\n",
            "Epoch 21/100\n",
            "10/10 [==============================] - 3s 294ms/step - loss: 2.1793 - accuracy: 0.6808\n",
            "Epoch 22/100\n",
            "10/10 [==============================] - 3s 302ms/step - loss: 0.5677 - accuracy: 0.7916\n",
            "Epoch 23/100\n",
            "10/10 [==============================] - 3s 304ms/step - loss: 0.6774 - accuracy: 0.6741\n",
            "Epoch 24/100\n",
            "10/10 [==============================] - 3s 314ms/step - loss: 0.5495 - accuracy: 0.7307\n",
            "Epoch 25/100\n",
            "10/10 [==============================] - 3s 304ms/step - loss: 0.6558 - accuracy: 0.7156\n",
            "Epoch 26/100\n",
            "10/10 [==============================] - 3s 309ms/step - loss: 0.5768 - accuracy: 0.6940\n",
            "Epoch 27/100\n",
            "10/10 [==============================] - 3s 289ms/step - loss: 0.5951 - accuracy: 0.6560\n",
            "Epoch 28/100\n",
            "10/10 [==============================] - 3s 306ms/step - loss: 1.1469 - accuracy: 0.6681\n",
            "Epoch 29/100\n",
            "10/10 [==============================] - 3s 303ms/step - loss: 0.4665 - accuracy: 0.7990\n",
            "Epoch 30/100\n",
            "10/10 [==============================] - 3s 297ms/step - loss: 0.4955 - accuracy: 0.7660\n",
            "Epoch 31/100\n",
            "10/10 [==============================] - 3s 296ms/step - loss: 0.4340 - accuracy: 0.7722\n",
            "Epoch 32/100\n",
            "10/10 [==============================] - 3s 297ms/step - loss: 1.0679 - accuracy: 0.8478\n",
            "Epoch 33/100\n",
            "10/10 [==============================] - 3s 296ms/step - loss: 0.4608 - accuracy: 0.8105\n",
            "Epoch 34/100\n",
            "10/10 [==============================] - 3s 287ms/step - loss: 0.3753 - accuracy: 0.8467\n",
            "Epoch 35/100\n",
            "10/10 [==============================] - 3s 305ms/step - loss: 0.5139 - accuracy: 0.8214\n",
            "Epoch 36/100\n",
            "10/10 [==============================] - 3s 308ms/step - loss: 0.3162 - accuracy: 0.8917\n",
            "Epoch 37/100\n",
            "10/10 [==============================] - 3s 306ms/step - loss: 0.3897 - accuracy: 0.8009\n",
            "Epoch 38/100\n",
            "10/10 [==============================] - 3s 304ms/step - loss: 0.2896 - accuracy: 0.8672\n",
            "Epoch 39/100\n",
            "10/10 [==============================] - 3s 290ms/step - loss: 0.3458 - accuracy: 0.8510\n",
            "Epoch 40/100\n",
            "10/10 [==============================] - 3s 301ms/step - loss: 0.1721 - accuracy: 0.8881\n",
            "Epoch 41/100\n",
            "10/10 [==============================] - 3s 307ms/step - loss: 0.5309 - accuracy: 0.7777\n",
            "Epoch 42/100\n",
            "10/10 [==============================] - 3s 303ms/step - loss: 0.3956 - accuracy: 0.9061\n",
            "Epoch 43/100\n",
            "10/10 [==============================] - 3s 304ms/step - loss: 0.5398 - accuracy: 0.8355\n",
            "Epoch 44/100\n",
            "10/10 [==============================] - 3s 302ms/step - loss: 0.2073 - accuracy: 0.9374\n",
            "Epoch 45/100\n",
            "10/10 [==============================] - 3s 288ms/step - loss: 0.3036 - accuracy: 0.8951\n",
            "Epoch 46/100\n",
            "10/10 [==============================] - 3s 304ms/step - loss: 0.4125 - accuracy: 0.8771\n",
            "Epoch 47/100\n",
            "10/10 [==============================] - 3s 309ms/step - loss: 0.4192 - accuracy: 0.7877\n",
            "Epoch 48/100\n",
            "10/10 [==============================] - 3s 301ms/step - loss: 0.6924 - accuracy: 0.8259\n",
            "Epoch 49/100\n",
            "10/10 [==============================] - 3s 307ms/step - loss: 0.2686 - accuracy: 0.9020\n",
            "Epoch 50/100\n",
            "10/10 [==============================] - 3s 307ms/step - loss: 0.2693 - accuracy: 0.9248\n",
            "Epoch 51/100\n",
            "10/10 [==============================] - 3s 307ms/step - loss: 0.3416 - accuracy: 0.8512\n",
            "Epoch 52/100\n",
            "10/10 [==============================] - 3s 314ms/step - loss: 0.7838 - accuracy: 0.7415\n",
            "Epoch 53/100\n",
            "10/10 [==============================] - 3s 311ms/step - loss: 0.3488 - accuracy: 0.9069\n",
            "Epoch 54/100\n",
            "10/10 [==============================] - 3s 306ms/step - loss: 0.1554 - accuracy: 0.9454\n",
            "Epoch 55/100\n",
            "10/10 [==============================] - 3s 308ms/step - loss: 0.3359 - accuracy: 0.8136\n",
            "Epoch 56/100\n",
            "10/10 [==============================] - 3s 302ms/step - loss: 0.4239 - accuracy: 0.9292\n",
            "Epoch 57/100\n",
            "10/10 [==============================] - 3s 308ms/step - loss: 0.4897 - accuracy: 0.7287\n",
            "Epoch 58/100\n",
            "10/10 [==============================] - 3s 282ms/step - loss: 0.5495 - accuracy: 0.8703\n",
            "Epoch 59/100\n",
            "10/10 [==============================] - 3s 306ms/step - loss: 0.2682 - accuracy: 0.9452\n",
            "Epoch 60/100\n",
            "10/10 [==============================] - 3s 311ms/step - loss: 0.4059 - accuracy: 0.8438\n",
            "Epoch 61/100\n",
            "10/10 [==============================] - 3s 269ms/step - loss: 0.9560 - accuracy: 0.6538\n",
            "Epoch 62/100\n",
            "10/10 [==============================] - 3s 304ms/step - loss: 0.1077 - accuracy: 0.9673\n",
            "Epoch 63/100\n",
            "10/10 [==============================] - 3s 306ms/step - loss: 0.1364 - accuracy: 0.9439\n",
            "Epoch 64/100\n",
            "10/10 [==============================] - 3s 294ms/step - loss: 0.2930 - accuracy: 0.9106\n"
          ],
          "name": "stdout"
        }
      ]
    },
    {
      "cell_type": "markdown",
      "metadata": {
        "id": "tuPEauVg3CCP"
      },
      "source": [
        "### Faça o upload da imagem e veja o resultado"
      ]
    },
    {
      "cell_type": "code",
      "metadata": {
        "id": "8Ex1TWN6PK7k"
      },
      "source": [
        "uploaded = files.upload() #botão de fazer upload\n",
        "\n",
        "for fn in uploaded.keys():\n",
        " \n",
        "  # predicting images\n",
        "  path = '/content/' + fn #salva as imagens uploudadas aqui\n",
        "  img = image.load_img(path, target_size=(300, 300)) #usa o keras.preprocess para abrir a imagem\n",
        "  x = image.img_to_array(img) # transforma a imagem em um array\n",
        "  x = np.expand_dims(x, axis=0) #aumenta as dimensões do array (batch_size, altura, largura, canal)\n",
        "\n",
        "  images = np.vstack([x])\n",
        "  classes = model.predict(images, batch_size = 10)\n",
        "  if classes[0] > 0.5:\n",
        "    print(fn + \" É UM ABACATE\")\n",
        "    img = image.load_img(os.path.join(main_path,'aleixo.jpg'))\n",
        "    plt.imshow(img)\n",
        "    plt.show()\n",
        "  else:\n",
        "    print(fn + \" É UM BUZZLATIR\")\n",
        "    img = image.load_img(os.path.join(main_path,'buzz.jpg'))\n",
        "    plt.imshow(img)\n",
        "    plt.show()"
      ],
      "execution_count": null,
      "outputs": []
    },
    {
      "cell_type": "markdown",
      "metadata": {
        "id": "cPCScNlK3Es1"
      },
      "source": [
        "### Salve seus pesos\r\n",
        "obs os arquivos temporarios (/tmp/) serão deletados quando a sessão for encerrada"
      ]
    },
    {
      "cell_type": "code",
      "metadata": {
        "id": "vTe5xnpaah1W"
      },
      "source": [
        "#cria um savepoint com a hora num fuso horario perdido ai\r\n",
        "def save():\r\n",
        "    now = datetime.datetime.now() \r\n",
        "    now = \"{}_{}_{}_{}_{}\".format(now.year,now.month,now.day,now.hour,now.minute)\r\n",
        "    model.save(os.path.join(main_path, now + \".h5\"))\r\n",
        "save()"
      ],
      "execution_count": null,
      "outputs": []
    }
  ]
}